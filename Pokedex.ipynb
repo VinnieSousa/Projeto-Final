{
 "cells": [
  {
   "cell_type": "code",
   "execution_count": 1,
   "metadata": {},
   "outputs": [],
   "source": [
    "import pandas as pd\n",
    "import requests\n",
    "import sqlite3\n",
    "from plyer import notification\n",
    "from datetime import datetime"
   ]
  },
  {
   "cell_type": "code",
   "execution_count": 43,
   "metadata": {},
   "outputs": [],
   "source": [
    "def save_to_db(df, table_name, conn):\n",
    "    df.to_sql(table_name, conn, if_exists='replace', index=False)\n",
    "    print(f\"Tabela {table_name} salva no banco de dados\")"
   ]
  },
  {
   "cell_type": "markdown",
   "metadata": {},
   "source": [
    "Pokemons"
   ]
  },
  {
   "cell_type": "code",
   "execution_count": 49,
   "metadata": {},
   "outputs": [],
   "source": [
    "url = \"https://pokeapi.co/api/v2/pokemon\"\n",
    "response = requests.get(url)"
   ]
  },
  {
   "cell_type": "code",
   "execution_count": null,
   "metadata": {},
   "outputs": [],
   "source": [
    "if response.status_code == 200:\n",
    "    data_json = response.json()\n",
    "    print(\"Funcionou\")\n",
    "\n",
    "    pokemon_list = []\n",
    "    for pokemon in data_json['results']:\n",
    "        pokemon_url = pokemon['url']\n",
    "        pokemon_response = requests.get(pokemon_url)\n",
    "        if pokemon_response.status_code == 200:\n",
    "            pokemon_data = pokemon_response.json()            \n",
    "        \n",
    "            types = \", \".join([type_info['type']['name'] for type_info in pokemon_data['types']])\n",
    "            \n",
    "            pokemon_info = {\n",
    "                'name': pokemon_data['name'],\n",
    "                'height': pokemon_data['height'],\n",
    "                'weight': pokemon_data['weight'],\n",
    "                'types': types,\n",
    "                'base_experience': pokemon_data['base_experience']\n",
    "            }\n",
    "            pokemon_list.append(pokemon_info)\n",
    "        else:\n",
    "            print(f\"Falha ao acessar dados de {pokemon['name']}\")\n",
    "\n",
    "    df_pokemons = pd.DataFrame(pokemon_list)\n",
    "else:\n",
    "    print(\"Não foi\")"
   ]
  },
  {
   "cell_type": "code",
   "execution_count": null,
   "metadata": {},
   "outputs": [],
   "source": [
    "df_pokemons.duplicated()\n",
    "df_pokemons.drop_duplicates()"
   ]
  },
  {
   "cell_type": "code",
   "execution_count": null,
   "metadata": {},
   "outputs": [],
   "source": [
    "df_pokemons.groupby('height')\n",
    "df_pokemons.sort_values('height', ascending=True)"
   ]
  },
  {
   "cell_type": "code",
   "execution_count": null,
   "metadata": {},
   "outputs": [],
   "source": [
    "conn = sqlite3.connect('coderhouse.db')\n",
    "save_to_db(df_pokemons, 'Pokemon', conn)\n",
    "conn.close()"
   ]
  },
  {
   "cell_type": "code",
   "execution_count": null,
   "metadata": {},
   "outputs": [],
   "source": [
    "conn = sqlite3.connect('coderhouse.db')\n",
    "query = \"SELECT * FROM Pokemon\"\n",
    "df = pd.read_sql(query, conn)\n",
    "print(df)\n",
    "\n",
    "conn.close()"
   ]
  },
  {
   "cell_type": "markdown",
   "metadata": {},
   "source": [
    "TMs"
   ]
  },
  {
   "cell_type": "code",
   "execution_count": 68,
   "metadata": {},
   "outputs": [],
   "source": [
    "url = \"https://pokeapi.co/api/v2/machine\"\n",
    "response = requests.get(url)"
   ]
  },
  {
   "cell_type": "code",
   "execution_count": null,
   "metadata": {},
   "outputs": [],
   "source": [
    "if response.status_code == 200:\n",
    "    data_json = response.json()\n",
    "    print(\"Funcionou\")\n",
    "\n",
    "    machine_list = []\n",
    "    for machine in data_json['results']:\n",
    "        machine_url = machine['url']\n",
    "        machine_response = requests.get(machine_url)\n",
    "        machine_data = machine_response.json()\n",
    "        machine_info = {\n",
    "             'id': machine_data['id'],\n",
    "             'TM': machine_data['item']['name'],\n",
    "             'generation': machine_data['version_group']['name'],\n",
    "             'move': machine_data['move']['name'],\n",
    "\n",
    "            }\n",
    "        machine_list.append(machine_info)\n",
    "    df_machine_list = pd.DataFrame(machine_list)\n",
    "    \n",
    "else:\n",
    "    print(\"Não foi\")"
   ]
  },
  {
   "cell_type": "code",
   "execution_count": null,
   "metadata": {},
   "outputs": [],
   "source": [
    "df_machine_list.duplicated()\n",
    "df_machine_list.drop_duplicates()"
   ]
  },
  {
   "cell_type": "code",
   "execution_count": null,
   "metadata": {},
   "outputs": [],
   "source": [
    "conn = sqlite3.connect('coderhouse.db')\n",
    "save_to_db(df_machine_list, 'TMs', conn)\n",
    "conn.close()"
   ]
  },
  {
   "cell_type": "code",
   "execution_count": null,
   "metadata": {},
   "outputs": [],
   "source": [
    "conn = sqlite3.connect('coderhouse.db')\n",
    "query = \"SELECT * FROM TMs\"\n",
    "df = pd.read_sql(query, conn)\n",
    "print(df)\n",
    "\n",
    "conn.close()"
   ]
  },
  {
   "cell_type": "markdown",
   "metadata": {},
   "source": [
    "Moves"
   ]
  },
  {
   "cell_type": "code",
   "execution_count": 85,
   "metadata": {},
   "outputs": [],
   "source": [
    "url = \"https://pokeapi.co/api/v2/move\"\n",
    "response = requests.get(url)"
   ]
  },
  {
   "cell_type": "code",
   "execution_count": null,
   "metadata": {},
   "outputs": [],
   "source": [
    "if response.status_code == 200:\n",
    "    data_json = response.json()\n",
    "    print(\"funcionou\")\n",
    "\n",
    "    move_list = []\n",
    "    for move in data_json ['results']:\n",
    "        move_url = move['url']\n",
    "        move_response = requests.get(move_url)\n",
    "        move_data = move_response.json()\n",
    "        move_info = {\n",
    "            'name': move_data ['name'],\n",
    "            'type': move_data ['type']['name'],\n",
    "            'power': move_data['power'],\n",
    "            'accuracy': move_data['accuracy'],\n",
    "            'power points': move_data['pp'],\n",
    "            'effect': move_data ['effect_entries'][0]['short_effect'],\n",
    "        }\n",
    "        move_list.append(move_info)\n",
    "    df_moves = pd.DataFrame(move_list)\n",
    "\n",
    "else:\n",
    "    print(\"nao funcionou\")"
   ]
  },
  {
   "cell_type": "code",
   "execution_count": null,
   "metadata": {},
   "outputs": [],
   "source": [
    "df_moves.duplicated()\n",
    "df_moves.drop_duplicates"
   ]
  },
  {
   "cell_type": "code",
   "execution_count": null,
   "metadata": {},
   "outputs": [],
   "source": [
    "conn = sqlite3.connect('coderhouse.db')\n",
    "save_to_db(df_moves, 'Moves', conn)\n",
    "conn.close()"
   ]
  },
  {
   "cell_type": "code",
   "execution_count": null,
   "metadata": {},
   "outputs": [],
   "source": [
    "conn = sqlite3.connect('coderhouse.db')\n",
    "query = \"SELECT * FROM Moves\"\n",
    "df = pd.read_sql(query, conn)\n",
    "print(df)\n",
    "\n",
    "conn.close()"
   ]
  },
  {
   "cell_type": "markdown",
   "metadata": {},
   "source": [
    "Notification"
   ]
  },
  {
   "cell_type": "code",
   "execution_count": 12,
   "metadata": {},
   "outputs": [],
   "source": [
    "def alerta(nivel, base, etapa):\n",
    "    now = str(datetime.now())\n",
    "    msg = f\"Falha no carregamento da base {base} na etapa {etapa}.\\n{now}\"\n",
    "\n",
    "    if nivel == 1:\n",
    "        title = 'ATENÇÃO: Alerta Baixo'\n",
    "    elif nivel == 2:\n",
    "        title = 'ATENÇÃO: Alerta Médio'\n",
    "    elif nivel  == 3:\n",
    "        title = 'ATENÇÃO: Alerta Alto'\n",
    "    else:\n",
    "        print(\"Nivel\",nivel,\"não disponível!\")\n",
    "\n",
    "    notification.notify(\n",
    "            title=title,\n",
    "            message=msg,\n",
    "            app_name='alerta',\n",
    "            timeout=10\n",
    "        )\n",
    "\n",
    "alerta(nivel = 3,\n",
    "        base = \"POKEDEX\", \n",
    "        etapa = \"EXTRACAO\")"
   ]
  },
  {
   "cell_type": "code",
   "execution_count": null,
   "metadata": {},
   "outputs": [],
   "source": [
    "conn = sqlite3.connect('coderhouse.db')\n",
    "query = \"SELECT name FROM sqlite_master WHERE type='table'\"\n",
    "schema = pd.read_sql_query(query, conn)\n",
    "print(schema)\n",
    "\n",
    "conn.close()"
   ]
  }
 ],
 "metadata": {
  "kernelspec": {
   "display_name": "ambientedetrabalho",
   "language": "python",
   "name": "python3"
  },
  "language_info": {
   "codemirror_mode": {
    "name": "ipython",
    "version": 3
   },
   "file_extension": ".py",
   "mimetype": "text/x-python",
   "name": "python",
   "nbconvert_exporter": "python",
   "pygments_lexer": "ipython3",
   "version": "3.12.4"
  }
 },
 "nbformat": 4,
 "nbformat_minor": 2
}
